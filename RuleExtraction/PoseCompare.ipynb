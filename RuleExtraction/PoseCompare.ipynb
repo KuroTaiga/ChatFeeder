{
 "cells": [
  {
   "cell_type": "markdown",
   "metadata": {},
   "source": [
    "Checkout code and make conda envirment for this."
   ]
  },
  {
   "cell_type": "code",
   "execution_count": null,
   "metadata": {},
   "outputs": [],
   "source": []
  },
  {
   "cell_type": "code",
   "execution_count": null,
   "metadata": {},
   "outputs": [],
   "source": [
    "!git clone https://github.com/open-mmlab/mmcv.git\n",
    "!cd mmcv\n",
    "!git checkout v1.3.9\n",
    "!MMCV_WITH_OPS=1 pip install -e .\n",
    "!cd ..\n",
    "!git clone https://github.com/ViTAE-Transformer/ViTPose.git\n",
    "!cd ViTPose\n",
    "!pip install -v -e .\n",
    "!pip install timm==0.4.9 einops\n",
    "!mkdir ./checkpoints"
   ]
  }
 ],
 "metadata": {
  "kernelspec": {
   "display_name": "base",
   "language": "python",
   "name": "python3"
  },
  "language_info": {
   "codemirror_mode": {
    "name": "ipython",
    "version": 3
   },
   "file_extension": ".py",
   "mimetype": "text/x-python",
   "name": "python",
   "nbconvert_exporter": "python",
   "pygments_lexer": "ipython3",
   "version": "3.11.5"
  }
 },
 "nbformat": 4,
 "nbformat_minor": 2
}
